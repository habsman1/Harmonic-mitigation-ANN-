{
 "cells": [
  {
   "cell_type": "markdown",
   "id": "89d068d5",
   "metadata": {},
   "source": [
    "## 1. GEM environment Libraries\n",
    "(Finite Control Set Current Control Permanent Magnet Synchronous Motor Environment)"
   ]
  },
  {
   "cell_type": "code",
   "execution_count": null,
   "id": "ef41f783",
   "metadata": {},
   "outputs": [],
   "source": [
    "%matplotlib notebook\n",
    "# Use %matplotlib widget in Visual Studio Code\n",
    "import numpy as np\n",
    "from pathlib import Path\n",
    "import gym_electric_motor as gem\n",
    "from gym_electric_motor.reference_generators import \\\n",
    "    MultipleReferenceGenerator,\\\n",
    "    WienerProcessReferenceGenerator\n",
    "from gym_electric_motor.visualization import MotorDashboard\n",
    "from gym.spaces import Discrete, Box\n",
    "from gym.wrappers import FlattenObservation, TimeLimit\n",
    "from gym import ObservationWrapper"
   ]
  },
  {
   "cell_type": "markdown",
   "id": "149922ce",
   "metadata": {},
   "source": [
    "## 2. GEM enviroment set up"
   ]
  },
  {
   "cell_type": "markdown",
   "id": "78d54856",
   "metadata": {},
   "source": [
    "### 2.1 Physical System"
   ]
  },
  {
   "cell_type": "markdown",
   "id": "d98e8ef0",
   "metadata": {},
   "source": [
    "Each system consists of a voltage supply, a power electronic converter, an electrical motor, and the mechanical load (SCML) as shown in the above figure. Each such SCML-system is simulated by a user-defined ODE solver."
   ]
  },
  {
   "cell_type": "markdown",
   "id": "84c38b73",
   "metadata": {},
   "source": [
    "### 2.1.1 Voltage Supply"
   ]
  },
  {
   "cell_type": "markdown",
   "id": "48b265a0",
   "metadata": {},
   "source": [
    "The voltage supply module provides both, DC and AC voltage supplies.\n",
    "\n",
    "The DC supplies are either ideal or non-ideal voltage sources.\n",
    "The AC supplies are either ideal single phase or ideal three-phase AC sources"
   ]
  },
  {
   "cell_type": "markdown",
   "id": "b7cfc740",
   "metadata": {},
   "source": [
    "### 2.1.2 Converter"
   ]
  },
  {
   "attachments": {
    "image-2.png": {
     "image/png": "[encoded data removed]"
    },
    "image.png": {
     "image/png": "[encoded data removed]"
    }
   },
   "cell_type": "markdown",
   "id": "32a4d2d9",
   "metadata": {},
   "source": [
    "# PMSM\n",
    "The basic idea of the control setup from the GEM-environment is displayed in the following figure.\n",
    "\n",
    "The agent controls the converter who converts the supply currents to the currents flowing into the motor - for the PSMS:  𝑖𝑠𝑞  and  𝑖𝑠𝑑 \n",
    "In the continuous case, the agent's action equals a duty cycle which will be modulated into a corresponding voltage.\n",
    "\n",
    "In the discrete case, the agent's actions denote switching states of the converter at the given instant. Here, only a discrete amount of options are available. In this notebook, for the PMSM the discrete B6 bridge converter with six switches is utilized per default. This converter provides a total of eight possible actions.\n",
    "\n",
    "![image.png](attachment:image.png)\n",
    "\n",
    "![image-2.png](attachment:image-2.png)\n",
    "\n",
    "And the electrical ODEs for that motor are:\n",
    "\n",
    "<h3 align=\"center\">\n",
    "\n",
    "<!-- $\\frac{\\mathrm{d}i_{sq}}{\\mathrm{d}t} = \\frac{u_{sq}-pL_d\\omega_{me}i_{sd}-R_si_{sq}}{L_q}$\n",
    "\n",
    "$\\frac{\\mathrm{d}i_{sd}}{\\mathrm{d}t} = \\frac{u_{sd}-pL_q\\omega_{me}i_{sq}-R_si_{sd}}{L_d}$\n",
    "\n",
    "$\\frac{\\mathrm{d}\\epsilon_{el}}{\\mathrm{d}t} = p\\omega_{me}$\n",
    " -->\n",
    "\n",
    "   $ \\frac{\\mathrm{d}i_{sd}}{\\mathrm{d}t}=\\frac{u_{sd} + p\\omega_{me}L_q i_{sq} - R_s i_{sd}}{L_d} $ <br><br>\n",
    "    $\\frac{\\mathrm{d} i_{sq}}{\\mathrm{d} t}=\\frac{u_{sq} - p \\omega_{me} (L_d i_{sd} + \\mathit{\\Psi}_p) - R_s i_{sq}}{L_q}$ <br><br>\n",
    "   $\\frac{\\mathrm{d}\\epsilon_{el}}{\\mathrm{d}t} = p\\omega_{me}$\n",
    "\n",
    "</h3>\n",
    "The target for the agent is now to learn to control the currents. For this, a reference generator produces a trajectory that the agent has to follow. Therefore, it has to learn a function (policy) from given states, references and rewards to appropriate actions"
   ]
  },
  {
   "cell_type": "markdown",
   "id": "166a1955",
   "metadata": {},
   "source": [
    "### 2.1.3  Motor State Initializer"
   ]
  },
  {
   "cell_type": "markdown",
   "id": "2ed35600",
   "metadata": {},
   "source": [
    " Mechanical Load - The mechanical load module in GEM models various external mechanical systems that apply counterforces on the electrical motor's rotor through the drive shaft.The load type: ConstSpeedLoad is used. This initializes the load with a constant speed at the start of each episode. The initialization value for speed is sampled from a uniform distribution defined by the given interval."
   ]
  },
  {
   "cell_type": "markdown",
   "id": "2940b73e",
   "metadata": {},
   "source": [
    "### 2.1.4 Reward Function"
   ]
  },
  {
   "cell_type": "markdown",
   "id": "e8b22bfd",
   "metadata": {},
   "source": [
    "The reward calculation is based on the current state and reference of the motor environment. It is calculated as a weighted sum of errors with a certain power as follows:\n",
    "\n",
    "<!-- <h3 align=\"center\"> -->\n",
    "<!-- $ reward = - reward\\_weights * (abs(state - reference)/ state\\_length)^{reward\\_power}$   -->\n",
    "\n",
    "$ r_t = - \\sum \\limits_{k=0} ^{N} w_{\\{k\\}}\\big | s_{\\{k\\}t} - s^*_{\\{k\\}t} \\big |^p $   <br> <br>\n",
    "\n",
    "\n",
    "Here,  𝑟𝑡  is the reward at time  𝑡 .  𝑤{𝑘}  is the reward weight for the k'th state variable of the  𝑁  referenced states .  𝑠{𝑘}𝑡  is the k'th state variable of the motor and  𝑠∗{𝑘}𝑡  is the corresponding k'th reference variable at time  𝑡 . The reward power is  𝑝 .\n",
    "\n",
    "A constraint violation is also introduced "
   ]
  },
  {
   "cell_type": "markdown",
   "id": "2218d3cb",
   "metadata": {},
   "source": [
    "### 2.1.5 Constraint Monitor"
   ]
  },
  {
   "cell_type": "markdown",
   "id": "8b017d03",
   "metadata": {},
   "source": [
    "The constraint monitor monitors the system states and assesses whether they violate system boundaries specified by the constraints.\n",
    "\n",
    "The constraints can be selected from a predefined set within GEM or defined by the user.\n",
    "\n"
   ]
  },
  {
   "cell_type": "markdown",
   "id": "2f8b87f4",
   "metadata": {},
   "source": [
    "# 3. Visualization "
   ]
  },
  {
   "cell_type": "markdown",
   "id": "6d585f9b",
   "metadata": {},
   "source": [
    "The visualization module provides an interface to observe and inspect the physical system's states, references, rewards, etc. GEM offers two forms of visualization:\n",
    "\n",
    "Motor dashboard: A graphical interface which provides visualization in the form of plots.\n",
    "\n",
    "Console printer: A simpler interface in the form of console print-outs."
   ]
  },
  {
   "cell_type": "markdown",
   "id": "267eeb73",
   "metadata": {},
   "source": [
    "## 3.1 Physical System Wrappers\n",
    "Physical System Wrappers wrap the physical system to preprocess the actions and postprocess the states of the Physical Systems."
   ]
  },
  {
   "cell_type": "code",
   "execution_count": null,
   "id": "0ee93eea",
   "metadata": {},
   "outputs": [],
   "source": [
    "class FeatureWrapper(ObservationWrapper):\n",
    "    \"\"\"\n",
    "    Wrapper class which wraps the environment to change its observation. Serves\n",
    "    the purpose to improve the agent's learning speed.\n",
    "    \n",
    "    It changes epsilon to cos(epsilon) and sin(epsilon). This serves the purpose\n",
    "    to have the angles -pi and pi close to each other numerically without losing\n",
    "    any information on the angle.\n",
    "    \n",
    "    Additionally, this wrapper adds a new observation i_sd**2 + i_sq**2. This should\n",
    "    help the agent to easier detect incoming limit violations.\n",
    "    \"\"\"\n",
    "\n",
    "    def __init__(self, env, epsilon_idx, i_sd_idx, i_sq_idx):\n",
    "        \"\"\"\n",
    "        Changes the observation space to fit the new features\n",
    "        \n",
    "        Args:\n",
    "            env(GEM env): GEM environment to wrap\n",
    "            epsilon_idx(integer): Epsilon's index in the observation array\n",
    "            i_sd_idx(integer): I_sd's index in the observation array\n",
    "            i_sq_idx(integer): I_sq's index in the observation array\n",
    "        \"\"\"\n",
    "        super(FeatureWrapper, self).__init__(env)\n",
    "        self.EPSILON_IDX = epsilon_idx\n",
    "        self.I_SQ_IDX = i_sq_idx\n",
    "        self.I_SD_IDX = i_sd_idx\n",
    "        new_low = np.concatenate((self.env.observation_space.low[\n",
    "                                  :self.EPSILON_IDX], np.array([-1.]),\n",
    "                                  self.env.observation_space.low[\n",
    "                                  self.EPSILON_IDX:], np.array([0.])))\n",
    "        new_high = np.concatenate((self.env.observation_space.high[\n",
    "                                   :self.EPSILON_IDX], np.array([1.]),\n",
    "                                   self.env.observation_space.high[\n",
    "                                   self.EPSILON_IDX:],np.array([1.])))\n",
    "\n",
    "        self.observation_space = Box(new_low, new_high)\n",
    "\n",
    "    def observation(self, observation):\n",
    "        \"\"\"\n",
    "        Gets called at each return of an observation. Adds the new features to the\n",
    "        observation and removes original epsilon.\n",
    "        \n",
    "        \"\"\"\n",
    "        cos_eps = np.cos(observation[self.EPSILON_IDX] * np.pi)\n",
    "        sin_eps = np.sin(observation[self.EPSILON_IDX] * np.pi)\n",
    "        currents_squared = observation[self.I_SQ_IDX]**2 + observation[self.I_SD_IDX]**2\n",
    "        observation = np.concatenate((observation[:self.EPSILON_IDX],\n",
    "                                      np.array([cos_eps, sin_eps]),\n",
    "                                      observation[self.EPSILON_IDX + 1:],\n",
    "                                      np.array([currents_squared])))\n",
    "        return observation"
   ]
  },
  {
   "cell_type": "markdown",
   "id": "2e02fca0",
   "metadata": {},
   "source": [
    "## 3.2 GEM call\n",
    "#### converter and motor specification\n"
   ]
  },
  {
   "cell_type": "code",
   "execution_count": null,
   "id": "a843b338",
   "metadata": {},
   "outputs": [],
   "source": [
    "# define motor arguments\n",
    "motor_parameter = dict(\n",
    "    p=3,  # [p] = 1, nb of pole pairs\n",
    "    r_s=17.932e-3,  # [r_s] = Ohm, stator resistance\n",
    "    l_d=0.37e-3,  # [l_d] = H, d-axis inductance\n",
    "    l_q=1.2e-3,  # [l_q] = H, q-axis inductance\n",
    "    psi_p=65.65e-3,  # [psi_p] = Vs, magnetic flux of the permanent magnet\n",
    ")\n",
    "# supply voltage\n",
    "u_supply = 350\n",
    "\n",
    "# nominal and absolute state limitations\n",
    "nominal_values=dict(\n",
    "    omega=4000*2*np.pi/60,\n",
    "    i=230,\n",
    "    u=u_supply\n",
    ")\n",
    "limit_values=dict(\n",
    "    omega=4000*2*np.pi/60,\n",
    "    i=1.5*230,\n",
    "    u=u_supply\n",
    ")\n",
    "\n",
    "# sampling interval\n",
    "tau = 1e-5\n",
    "\n",
    "# define maximal episode steps\n",
    "max_eps_steps = 10000\n",
    "\n",
    "\n",
    "motor_initializer={'random_init': 'uniform', 'interval': [[-230, 230], [-230, 230], [-np.pi, np.pi]]}\n",
    "reward_function=gem.reward_functions.WeightedSumOfErrors(\n",
    "    reward_weights={'i_sq': 10, 'i_sd': 10},\n",
    "    gamma=0.99,  # discount rate \n",
    "    reward_power=1\n",
    ")\n",
    "motor_dashboard = MotorDashboard(state_plots=['i_sq', 'i_sd'], reward_plot=True)\n",
    "\n",
    "# creating gem environment\n",
    "env = gem.make(  # define a PMSM with discrete action space\n",
    "    \"Finite-CC-PMSM-v0\",\n",
    "    # visualize the results\n",
    "    visualization=motor_dashboard,\n",
    "    \n",
    "    # parameterize the PMSM and update limitations\n",
    "    motor=dict(\n",
    "        motor_parameter=motor_parameter,\n",
    "        limit_values=limit_values,\n",
    "        nominal_values=nominal_values,\n",
    "        motor_initializer=motor_initializer,\n",
    "    ),\n",
    "    # define the random initialisation for load and motor\n",
    "    load=dict(\n",
    "        load_initializer={'random_init': 'uniform', },\n",
    "    ),\n",
    "    reward_function=reward_function,\n",
    "    supply=dict(u_nominal=u_supply),\n",
    "    # define the duration of one sampling step\n",
    "    tau=tau,\n",
    "    \n",
    "    ode_solver='euler',\n",
    ")\n",
    "\n",
    "env.action_space = Discrete(7)\n",
    "\n",
    "# applying wrappers\n",
    "eps_idx = env.physical_system.state_names.index('epsilon')\n",
    "i_sd_idx = env.physical_system.state_names.index('i_sd')\n",
    "i_sq_idx = env.physical_system.state_names.index('i_sq')\n",
    "env = TimeLimit(\n",
    "    FeatureWrapper(\n",
    "        FlattenObservation(env), \n",
    "        eps_idx, i_sd_idx, i_sq_idx\n",
    "    ),\n",
    "    max_eps_steps\n",
    ")"
   ]
  },
  {
   "cell_type": "markdown",
   "id": "f5e6de03",
   "metadata": {},
   "source": [
    "## 3.3 Training: "
   ]
  },
  {
   "cell_type": "code",
   "execution_count": null,
   "id": "591b5bd4",
   "metadata": {},
   "outputs": [],
   "source": [
    "from tensorflow.keras.models import Sequential\n",
    "from tensorflow.keras.layers import Dense, Flatten\n",
    "from tensorflow.keras.optimizers import Adam\n",
    "from rl.agents.dqn import DQNAgent\n",
    "from rl.policy import LinearAnnealedPolicy, EpsGreedyQPolicy\n",
    "from rl.memory import SequentialMemory"
   ]
  },
  {
   "cell_type": "markdown",
   "id": "2413dfdf",
   "metadata": {},
   "source": [
    "## 3.3.1 Model design \n",
    "Using a time series prediction model, and relu activation function, three layers are generated, input, hidden, and output layer."
   ]
  },
  {
   "cell_type": "code",
   "execution_count": null,
   "id": "20f81583",
   "metadata": {},
   "outputs": [],
   "source": [
    "# Training parameters.\n",
    "time_limit = True\n",
    "buffer_size = 200000  # observation history size\n",
    "batch_size = 25  # mini batch size sampled from history at each update step\n",
    "nb_actions = env.action_space.n\n",
    "window_length = 1\n",
    "\n",
    "# construct a MLP\n",
    "model = Sequential()\n",
    "model.add(Flatten(input_shape=(window_length,) + env.observation_space.shape))\n",
    "model.add(Dense(64, activation='relu'))  # hidden layer 1\n",
    "model.add(Dense(64, activation='relu'))  # hidden layer 2\n",
    "model.add(Dense(nb_actions, activation='linear'))  # output layer\n",
    "\n",
    "# keras-rl2 objects\n",
    "memory = SequentialMemory(limit=200000, window_length=window_length)\n",
    "policy = LinearAnnealedPolicy(EpsGreedyQPolicy(eps=0.2), 'eps', 1, 0.05, 0, 50000)"
   ]
  },
  {
   "cell_type": "markdown",
   "id": "da460993",
   "metadata": {},
   "source": [
    "## 3.3.2 Train an Agent with Keras-RL2"
   ]
  },
  {
   "cell_type": "code",
   "execution_count": null,
   "id": "bac8597b",
   "metadata": {},
   "outputs": [],
   "source": [
    "dqn = DQNAgent(\n",
    "    model=model,\n",
    "    policy=policy,\n",
    "    nb_actions=nb_actions,\n",
    "    memory=memory,\n",
    "    gamma=0.99,\n",
    "    batch_size=25,\n",
    "    train_interval=1,\n",
    "    memory_interval=1,\n",
    "    target_model_update=1000,\n",
    "    nb_steps_warmup=10000,\n",
    "    enable_double_dqn=True\n",
    ")\n",
    "\n",
    "dqn.compile(\n",
    "    Adam(lr=1e-4),\n",
    "    metrics=['mse']\n",
    ")"
   ]
  },
  {
   "cell_type": "code",
   "execution_count": null,
   "id": "bb20edbd",
   "metadata": {},
   "outputs": [],
   "source": [
    "motor_dashboard.initialize()"
   ]
  },
  {
   "cell_type": "code",
   "execution_count": null,
   "id": "12040cb5",
   "metadata": {},
   "outputs": [],
   "source": [
    "\n",
    "history = dqn.fit(\n",
    "    env,\n",
    "    nb_steps=100000,\n",
    "    action_repetition=1,\n",
    "    verbose=2,\n",
    "    visualize=True,\n",
    "    nb_max_episode_steps=10000,\n",
    "    log_interval=1000\n",
    ")"
   ]
  },
  {
   "cell_type": "markdown",
   "id": "8f20a3cf",
   "metadata": {},
   "source": [
    "### saving the model"
   ]
  },
  {
   "cell_type": "code",
   "execution_count": null,
   "id": "7485b4d9",
   "metadata": {},
   "outputs": [],
   "source": [
    "weight_path = Path('C:\\\\Users\\\\Habsman\\\\Desktop\\\\codes\\\\recursive\\\\saved_models_gem')\n",
    "weight_path.mkdir(parents=True, exist_ok=True)\n",
    "dqn.save_weights(str(weight_path / 'dqn_keras-RL2.hdf5'), overwrite=True) "
   ]
  },
  {
   "cell_type": "markdown",
   "id": "81866a3e",
   "metadata": {},
   "source": [
    "### loading model "
   ]
  },
  {
   "cell_type": "code",
   "execution_count": null,
   "id": "bc632dc4",
   "metadata": {},
   "outputs": [],
   "source": [
    "try:\n",
    "    dqn.load_weights(str(weight_path / 'dqn_keras-RL2.hdf5'))\n",
    "except OSError:\n",
    "    print('Could not find model file. Continue')   "
   ]
  },
  {
   "cell_type": "markdown",
   "id": "a4e88928",
   "metadata": {},
   "source": [
    "## 3.3.3 Testing Model"
   ]
  },
  {
   "cell_type": "code",
   "execution_count": null,
   "id": "fadecb1c",
   "metadata": {},
   "outputs": [],
   "source": [
    "motor_dashboard.initialize()"
   ]
  },
  {
   "cell_type": "code",
   "execution_count": null,
   "id": "03e09b49",
   "metadata": {},
   "outputs": [],
   "source": [
    "env.reset()\n",
    "test_history = dqn.test(env,\n",
    "                         nb_episodes=5,\n",
    "                         nb_max_episode_steps=100000,\n",
    "                         visualize=True\n",
    "                         )"
   ]
  }
 ],
 "metadata": {
  "kernelspec": {
   "display_name": "Python 3 (ipykernel)",
   "language": "python",
   "name": "python3"
  },
  "language_info": {
   "codemirror_mode": {
    "name": "ipython",
    "version": 3
   },
   "file_extension": ".py",
   "mimetype": "text/x-python",
   "name": "python",
   "nbconvert_exporter": "python",
   "pygments_lexer": "ipython3",
   "version": "3.9.12"
  },
  "varInspector": {
   "cols": {
    "lenName": 16,
    "lenType": 16,
    "lenVar": 40
   },
   "kernels_config": {
    "python": {
     "delete_cmd_postfix": "",
     "delete_cmd_prefix": "del ",
     "library": "var_list.py",
     "varRefreshCmd": "print(var_dic_list())"
    },
    "r": {
     "delete_cmd_postfix": ") ",
     "delete_cmd_prefix": "rm(",
     "library": "var_list.r",
     "varRefreshCmd": "cat(var_dic_list()) "
    }
   },
   "oldHeight": 650.838,
   "position": {
    "height": "40px",
    "left": "655.188px",
    "right": "20px",
    "top": "29px",
    "width": "519px"
   },
   "types_to_exclude": [
    "module",
    "function",
    "builtin_function_or_method",
    "instance",
    "_Feature"
   ],
   "varInspector_section_display": "none",
   "window_display": true
  }
 },
 "nbformat": 4,
 "nbformat_minor": 5
}
